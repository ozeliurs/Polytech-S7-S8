{
 "cells": [
  {
   "cell_type": "code",
   "execution_count": null,
   "id": "initial_id",
   "metadata": {
    "collapsed": true
   },
   "outputs": [],
   "source": [
    "import matplotlib.pyplot as plt\n",
    "from sklearn import tree, metrics, model_selection, datasets, decomposition\n",
    "from tqdm import tqdm\n",
    "import seaborn as sns"
   ]
  },
  {
   "cell_type": "code",
   "execution_count": null,
   "outputs": [],
   "source": [
    "mnist = datasets.load_digits()\n",
    "X_mnist = mnist.data\n",
    "y_mnist = mnist.target\n",
    "\n",
    "X_train, X_test, y_train, y_test = model_selection.train_test_split(X_mnist, y_mnist, test_size=0.2, random_state=42)"
   ],
   "metadata": {
    "collapsed": false
   },
   "id": "f89b6563af3ada65"
  },
  {
   "cell_type": "markdown",
   "source": [
    "# PCA - Principal Component Analysis\n",
    "\n",
    "Find the smallest dimension after PCA such that 95% of the variance is explained. (numpy.cumsum and numpy.where)"
   ],
   "metadata": {
    "collapsed": false
   },
   "id": "3115f93a2029dd9c"
  },
  {
   "cell_type": "code",
   "execution_count": null,
   "outputs": [],
   "source": [
    "for i in tqdm(range(1, 64)):\n",
    "    pca = decomposition.PCA(n_components=i)\n",
    "    pca.fit(X_train)\n",
    "    if sum(pca.explained_variance_ratio_) > 0.95:\n",
    "        print(f\"Number of components: {i}, explained variance: {sum(pca.explained_variance_ratio_)}\")\n",
    "        break"
   ],
   "metadata": {
    "collapsed": false
   },
   "id": "28ffdebcee92167d"
  },
  {
   "cell_type": "markdown",
   "source": [
    "What is the proportion of explained variance in dimension 2 ?"
   ],
   "metadata": {
    "collapsed": false
   },
   "id": "dd8c46138e7ab719"
  },
  {
   "cell_type": "code",
   "execution_count": null,
   "outputs": [],
   "source": [
    "pca = decomposition.PCA(n_components=2)\n",
    "X_train_pca = pca.fit_transform(X_train)\n",
    "\n",
    "print(f\"Explained variance: {sum(pca.explained_variance_ratio_)}\")"
   ],
   "metadata": {
    "collapsed": false
   },
   "id": "e56e1043d5458910"
  },
  {
   "cell_type": "markdown",
   "source": [
    "Plot the digits after a PCA in 2D. Compare with the previous approach. (use digit as a shape parameter)"
   ],
   "metadata": {
    "collapsed": false
   },
   "id": "37aa6afe69e8dab6"
  },
  {
   "cell_type": "code",
   "execution_count": null,
   "outputs": [],
   "source": [
    "colors = sns.color_palette(\"hls\", 10)\n",
    "\n",
    "for X, y in zip(X_train_pca, y_train):\n",
    "    plt.scatter(X[0], X[1], marker=f\"${y}$\", color=colors[y])"
   ],
   "metadata": {
    "collapsed": false
   },
   "id": "26b29cf038b4bfc5"
  },
  {
   "cell_type": "markdown",
   "source": [
    "Compare PCA and tSNE for the visualisation in 2D of the digit dataset"
   ],
   "metadata": {
    "collapsed": false
   },
   "id": "1e284f9b040cdccd"
  },
  {
   "cell_type": "code",
   "execution_count": null,
   "outputs": [],
   "source": [
    "from sklearn.manifold import TSNE\n",
    "\n",
    "tsne = TSNE(n_components=2)\n",
    "X_train_tsne = tsne.fit_transform(X_train)\n",
    "\n",
    "for X, y in zip(X_train_tsne, y_train):\n",
    "    plt.scatter(X[0], X[1], marker=f\"${y}$\", color=colors[y])"
   ],
   "metadata": {
    "collapsed": false
   },
   "id": "6ccb7afff0b74b52"
  },
  {
   "cell_type": "code",
   "execution_count": null,
   "outputs": [],
   "source": [],
   "metadata": {
    "collapsed": false
   },
   "id": "da7b2252b30d06dc"
  },
  {
   "cell_type": "markdown",
   "source": [
    "# Now we have fun with 3D"
   ],
   "metadata": {
    "collapsed": false
   },
   "id": "94043a665cff1116"
  },
  {
   "cell_type": "code",
   "execution_count": null,
   "outputs": [],
   "source": [
    "tsne = TSNE(n_components=3)\n",
    "X_train_tsne = tsne.fit_transform(X_train)"
   ],
   "metadata": {
    "collapsed": false
   },
   "id": "c0b386b9ef614b65"
  },
  {
   "cell_type": "code",
   "execution_count": null,
   "outputs": [],
   "source": [
    "# Import dependencies\n",
    "import plotly\n",
    "import plotly.graph_objs as go\n",
    "\n",
    "# Configure Plotly to be rendered inline in the notebook.\n",
    "plotly.offline.init_notebook_mode()"
   ],
   "metadata": {
    "collapsed": false
   },
   "id": "f68ecd218962e6e6"
  },
  {
   "cell_type": "code",
   "execution_count": null,
   "outputs": [],
   "source": [
    "# Configure the trace.\n",
    "trace = go.Scatter3d(\n",
    "    x=X_train_tsne[:, 0],\n",
    "    y=X_train_tsne[:, 1],\n",
    "    z=X_train_tsne[:, 2],\n",
    "    mode='markers',\n",
    "    marker={\n",
    "        'size': 10,\n",
    "        'opacity': 0.8,\n",
    "        'color': y_train,\n",
    "        'colorscale': 'Viridis'\n",
    "    }\n",
    ")\n",
    "\n",
    "# Configure the layout.\n",
    "layout = go.Layout(\n",
    "    margin={'l': 0, 'r': 0, 'b': 0, 't': 0}\n",
    ")\n",
    "\n",
    "data = [trace]\n",
    "\n",
    "# Create a fig from data and layout, and plot the fig.\n",
    "fig = go.Figure(data=data, layout=layout)\n",
    "\n",
    "plotly.offline.iplot(fig)\n",
    "\n",
    "# Save to html\n",
    "plotly.offline.plot(fig, filename='3d-scatter.html')"
   ],
   "metadata": {
    "collapsed": false
   },
   "id": "3415510ada0fb0c4"
  },
  {
   "cell_type": "code",
   "execution_count": null,
   "outputs": [],
   "source": [],
   "metadata": {
    "collapsed": false
   },
   "id": "275752a6b6435da7"
  },
  {
   "cell_type": "markdown",
   "source": [
    "# Create video of TSNE"
   ],
   "metadata": {
    "collapsed": false
   },
   "id": "82947f8cbd8e8aef"
  },
  {
   "cell_type": "code",
   "execution_count": null,
   "outputs": [],
   "source": [
    "import numpy as np\n",
    "import matplotlib.pyplot as plt\n",
    "from sklearn.manifold import TSNE\n",
    "from matplotlib.animation import FuncAnimation\n",
    "from sklearn import datasets\n",
    "\n",
    "# Load the MNIST dataset\n",
    "mnist = datasets.load_digits()\n",
    "X_mnist = mnist.data\n",
    "y_mnist = mnist.target\n",
    "\n",
    "# Initialize t-SNE model\n",
    "tsne = TSNE(n_components=2, perplexity=30, n_iter=251)\n",
    "\n",
    "# Create a figure and axis for your plot\n",
    "fig, ax = plt.subplots()\n",
    "\n",
    "# Create an empty scatter plot for the initial state\n",
    "colors = sns.color_palette(\"hls\", 10)\n",
    "sc = ax.scatter([0 for _ in range(X_mnist.shape[0])], [0 for _ in range(X_mnist.shape[0])], c=y_mnist, cmap='tab10')\n",
    "\n",
    "# Add a colorbar to indicate class labels\n",
    "cbar = plt.colorbar(sc)\n",
    "cbar.set_ticks(np.arange(10))\n",
    "cbar.set_label('Class Label')\n",
    "\n",
    "# Initialize variables to store the evolving t-SNE embeddings\n",
    "X_embedded_history = []\n",
    "\n",
    "# Define an initialization function for the animation\n",
    "def init():\n",
    "    sc.set_offsets(np.c_[[0 for _ in range(X_mnist.shape[0])], [0 for _ in range(X_mnist.shape[0])]])\n",
    "    return sc,\n",
    "\n",
    "# Define an update function for the animation\n",
    "def update(frame):\n",
    "    global tsne\n",
    "    if frame > 251:\n",
    "        # Perform one iteration of t-SNE optimization\n",
    "        tsne = TSNE(n_components=2, perplexity=30, n_iter=frame+1)\n",
    "        X_embedded = tsne.fit_transform(X_mnist)\n",
    "        \n",
    "        # Update the scatter plot with the new t-SNE embeddings\n",
    "        sc.set_offsets(X_embedded)\n",
    "    \n",
    "    return sc,\n",
    "\n",
    "# Create the animation object using FuncAnimation\n",
    "num_frames = 500  # Number of frames is the number of iterations + 1 (for initial state)\n",
    "animation = FuncAnimation(fig, update, frames=num_frames, init_func=init, blit=True)\n",
    "\n",
    "animation.save('animation.mp4', fps=30, extra_args=['-vcodec', 'libx264'])"
   ],
   "metadata": {
    "collapsed": false,
    "is_executing": true,
    "ExecuteTime": {
     "start_time": "2023-09-26T09:20:26.918105Z"
    }
   },
   "id": "ddd3c90943b2d9fe"
  },
  {
   "cell_type": "markdown",
   "source": [],
   "metadata": {
    "collapsed": false
   },
   "id": "564f75cdf148648f"
  }
 ],
 "metadata": {
  "kernelspec": {
   "display_name": "Python 3",
   "language": "python",
   "name": "python3"
  },
  "language_info": {
   "codemirror_mode": {
    "name": "ipython",
    "version": 2
   },
   "file_extension": ".py",
   "mimetype": "text/x-python",
   "name": "python",
   "nbconvert_exporter": "python",
   "pygments_lexer": "ipython2",
   "version": "2.7.6"
  }
 },
 "nbformat": 4,
 "nbformat_minor": 5
}
